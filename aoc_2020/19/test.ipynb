{
 "cells": [
  {
   "cell_type": "code",
   "execution_count": 29,
   "metadata": {},
   "outputs": [
    {
     "name": "stdout",
     "output_type": "stream",
     "text": [
      "Number of rules is 6\n",
      "The autoreload extension is already loaded. To reload it, use:\n",
      "  %reload_ext autoreload\n"
     ]
    }
   ],
   "source": [
    "%load_ext autoreload\n",
    "%autoreload 2"
   ]
  },
  {
   "cell_type": "raw",
   "metadata": {},
   "source": [
    "0: 4 1 5\n",
    "1: 2 3 | 3 2\n",
    "2: 4 4 | 5 5\n",
    "3: 4 5 | 5 4\n",
    "4: \"a\"\n",
    "5: \"b\""
   ]
  },
  {
   "cell_type": "code",
   "execution_count": 108,
   "metadata": {},
   "outputs": [],
   "source": [
    "from p1 import *"
   ]
  },
  {
   "cell_type": "code",
   "execution_count": 111,
   "metadata": {},
   "outputs": [
    {
     "name": "stdout",
     "output_type": "stream",
     "text": [
      "Number of rules is 6\n"
     ]
    }
   ],
   "source": [
    "import re\n",
    "rules = {\n",
    "    \"4\": re.compile(\"a\"),\n",
    "    \"5\": re.compile(\"b\")\n",
    "}"
   ]
  },
  {
   "cell_type": "code",
   "execution_count": 114,
   "metadata": {},
   "outputs": [
    {
     "name": "stdout",
     "output_type": "stream",
     "text": [
      "Number of rules is 6\n",
      "[['a'], ['b']] [1, 1] 1\n",
      "match? 1 1\n",
      "-----\n",
      "re.compile('ab')\n"
     ]
    }
   ],
   "source": [
    "t3 = concatenate(\"4 5\", rules)\n",
    "print(\"-----\")\n",
    "print(t3)"
   ]
  },
  {
   "cell_type": "code",
   "execution_count": 115,
   "metadata": {},
   "outputs": [
    {
     "name": "stdout",
     "output_type": "stream",
     "text": [
      "[['a'], ['b']] [1, 1] 1\n",
      "match? 1 1\n",
      "[['b'], ['a']] [1, 1] 1\n",
      "match? 1 1\n",
      "-----\n",
      "re.compile('ab|ba')\n"
     ]
    }
   ],
   "source": [
    "p3 = concatenate_and_union(\"4 5 | 5 4\", rules)\n",
    "print(\"-----\")\n",
    "print(p3)\n",
    "rules[\"3\"] = p3"
   ]
  },
  {
   "cell_type": "code",
   "execution_count": 117,
   "metadata": {},
   "outputs": [
    {
     "name": "stdout",
     "output_type": "stream",
     "text": [
      "[['a'], ['a']] [1, 1] 1\n",
      "match? 1 1\n",
      "[['b'], ['b']] [1, 1] 1\n",
      "match? 1 1\n",
      "re.compile('aa|bb')\n"
     ]
    }
   ],
   "source": [
    "p2 = concatenate_and_union(\"4 4 | 5 5\", rules)\n",
    "print(p2)\n",
    "rules[\"2\"] = p2"
   ]
  },
  {
   "cell_type": "code",
   "execution_count": 118,
   "metadata": {},
   "outputs": [
    {
     "name": "stdout",
     "output_type": "stream",
     "text": [
      "[['aa', 'bb'], ['ab', 'ba']] [2, 2] 4\n",
      "match? 4 4\n",
      "[['ab', 'ba'], ['aa', 'bb']] [2, 2] 4\n",
      "match? 4 4\n",
      "re.compile('aaab|aaba|bbab|bbba|abaa|abbb|baaa|babb')\n"
     ]
    }
   ],
   "source": [
    "p1 = concatenate_and_union(\"2 3 | 3 2\", rules)\n",
    "print(p1)\n",
    "rules[\"1\"] = p1"
   ]
  },
  {
   "cell_type": "code",
   "execution_count": 119,
   "metadata": {},
   "outputs": [
    {
     "name": "stdout",
     "output_type": "stream",
     "text": [
      "[['a'], ['aaab', 'aaba', 'bbab', 'bbba', 'abaa', 'abbb', 'baaa', 'babb'], ['b']] [1, 8, 1] 8\n",
      "match? 8 8\n",
      "re.compile('aaaabb|aaabab|abbabb|abbbab|aabaab|aabbbb|abaaab|ababbb')\n"
     ]
    }
   ],
   "source": [
    "p0 = concatenate(\"4 1 5\", rules)\n",
    "print(p0)\n",
    "rules[\"0\"] = p0"
   ]
  },
  {
   "cell_type": "code",
   "execution_count": 20,
   "metadata": {},
   "outputs": [
    {
     "data": {
      "text/plain": [
       "'aa | bbab | ba'"
      ]
     },
     "execution_count": 20,
     "metadata": {},
     "output_type": "execute_result"
    }
   ],
   "source": [
    "''.join(lists)"
   ]
  },
  {
   "cell_type": "code",
   "execution_count": 23,
   "metadata": {},
   "outputs": [
    {
     "data": {
      "text/plain": [
       "re.compile(r'ab | ba', re.UNICODE)"
      ]
     },
     "execution_count": 23,
     "metadata": {},
     "output_type": "execute_result"
    }
   ],
   "source": [
    "re.compile(lists[0] and lists[1])"
   ]
  },
  {
   "cell_type": "code",
   "execution_count": 25,
   "metadata": {},
   "outputs": [
    {
     "data": {
      "text/plain": [
       "re.compile(r'aa | bbab | ba', re.UNICODE)"
      ]
     },
     "execution_count": 25,
     "metadata": {},
     "output_type": "execute_result"
    }
   ],
   "source": [
    "re.compile(''.join([(rules[\"2\"].pattern), (rules[\"3\"].pattern)]))"
   ]
  },
  {
   "cell_type": "code",
   "execution_count": null,
   "metadata": {},
   "outputs": [],
   "source": []
  }
 ],
 "metadata": {
  "kernelspec": {
   "display_name": "Python 3",
   "language": "python",
   "name": "python3"
  },
  "language_info": {
   "codemirror_mode": {
    "name": "ipython",
    "version": 3
   },
   "file_extension": ".py",
   "mimetype": "text/x-python",
   "name": "python",
   "nbconvert_exporter": "python",
   "pygments_lexer": "ipython3",
   "version": "3.7.7"
  }
 },
 "nbformat": 4,
 "nbformat_minor": 4
}
